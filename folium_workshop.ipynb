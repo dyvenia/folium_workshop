{
 "cells": [
  {
   "cell_type": "markdown",
   "id": "d1082512-bc70-46c6-a28a-dfcc7012729a",
   "metadata": {
    "jp-MarkdownHeadingCollapsed": true,
    "tags": []
   },
   "source": [
    "# Folium maps"
   ]
  },
  {
   "cell_type": "markdown",
   "id": "3f9c2c86-c3c4-45d4-b0da-d3d19b23708c",
   "metadata": {
    "tags": []
   },
   "source": [
    "## Importing libraries and dataset"
   ]
  },
  {
   "cell_type": "code",
   "execution_count": null,
   "id": "7fca2380-dc17-40c2-8684-e5fb4f153623",
   "metadata": {},
   "outputs": [],
   "source": [
    "!pip install folium"
   ]
  },
  {
   "cell_type": "code",
   "execution_count": null,
   "id": "736d5d79-14ef-4633-8aeb-8823946a771a",
   "metadata": {},
   "outputs": [],
   "source": [
    "import pandas as pd\n",
    "import folium\n",
    "from folium import plugins"
   ]
  },
  {
   "cell_type": "code",
   "execution_count": null,
   "id": "a0348c59-113b-4dfe-8a33-1b99afb47d03",
   "metadata": {},
   "outputs": [],
   "source": [
    "# names for the input and output files\n",
    "source = 'dk_data'\n",
    "output = 'our_first_map'\n",
    "\n",
    "# importing the source file\n",
    "df = pd.read_csv(f'{source}.csv')"
   ]
  },
  {
   "cell_type": "code",
   "execution_count": null,
   "id": "5daa4a2a-788c-4122-9938-d8fd7528c405",
   "metadata": {},
   "outputs": [],
   "source": [
    "df.head()"
   ]
  },
  {
   "cell_type": "code",
   "execution_count": null,
   "id": "3bfa43b2-e682-4f3b-b82d-4e7e0807e0a8",
   "metadata": {},
   "outputs": [],
   "source": [
    "df['some_label'].unique()"
   ]
  },
  {
   "cell_type": "code",
   "execution_count": null,
   "id": "2d7d8b83-c093-49f2-b80e-e8a9dfa9a1d0",
   "metadata": {},
   "outputs": [],
   "source": [
    "df['colors'].unique()"
   ]
  },
  {
   "cell_type": "code",
   "execution_count": null,
   "id": "7f4e708d-772d-4546-9303-ab4d6ebd999f",
   "metadata": {},
   "outputs": [],
   "source": [
    "df.isna().sum()"
   ]
  },
  {
   "cell_type": "code",
   "execution_count": null,
   "id": "f6c9b594-9e7e-4f3f-bf7f-74b63d305569",
   "metadata": {},
   "outputs": [],
   "source": [
    "df.shape"
   ]
  },
  {
   "cell_type": "markdown",
   "id": "22ccc1ad-b63d-4516-a609-514e82c525d5",
   "metadata": {
    "jp-MarkdownHeadingCollapsed": true,
    "tags": []
   },
   "source": [
    "## Maps"
   ]
  },
  {
   "cell_type": "markdown",
   "id": "c998f9a9-9daf-4d2f-8ad3-d4838c52ec30",
   "metadata": {
    "tags": []
   },
   "source": [
    "### Plain map"
   ]
  },
  {
   "cell_type": "code",
   "execution_count": null,
   "id": "5b57406a-745e-4a7c-baea-587e0cfd930e",
   "metadata": {},
   "outputs": [],
   "source": [
    "m0 = folium.Map()\n",
    "m0"
   ]
  },
  {
   "cell_type": "markdown",
   "id": "7fe7da2d-a98e-4263-9d35-fff046c05ada",
   "metadata": {
    "tags": []
   },
   "source": [
    "### Basic arguments"
   ]
  },
  {
   "cell_type": "code",
   "execution_count": null,
   "id": "e6fae33f-5248-46db-b539-af14ff6f4921",
   "metadata": {},
   "outputs": [],
   "source": [
    "# where the map will start\n",
    "location = [55.68002677064188, 12.584092769278385]\n",
    "\n",
    "# how zoomed in (out) the map will be (the bigger the number the closer it gets)\n",
    "zoom_start = 7\n",
    "\n",
    "# the size of the map (either % or pixels)\n",
    "width = 500 # '75%'\n",
    "height = 500 # '75%'"
   ]
  },
  {
   "cell_type": "code",
   "execution_count": null,
   "id": "bcbbe8d5-38ac-42b1-a762-0acfaffe5f9f",
   "metadata": {},
   "outputs": [],
   "source": [
    "m1 = folium.Map(location=location, \n",
    "                # width = 500,\n",
    "                # height = 500,\n",
    "                zoom_start=zoom_start)\n",
    "m1"
   ]
  },
  {
   "cell_type": "markdown",
   "id": "ee7201c3-b55f-432d-adb6-d3cde6094659",
   "metadata": {
    "tags": []
   },
   "source": [
    "### Basic markers"
   ]
  },
  {
   "cell_type": "code",
   "execution_count": null,
   "id": "65afeef9-db3d-4e08-9bf9-cbfcfd50f06e",
   "metadata": {},
   "outputs": [],
   "source": [
    "# marker arguments\n",
    "lats = df['lat'].astype('float32')\n",
    "lons = df['lon'].astype('float32')"
   ]
  },
  {
   "cell_type": "code",
   "execution_count": null,
   "id": "fbf88ad4-78d6-4223-a83b-c84f9a9d148c",
   "metadata": {},
   "outputs": [],
   "source": [
    "# using the same argument as in the previous sections\n",
    "m2 = folium.Map(location=location, zoom_start=zoom_start)\n",
    "\n",
    "for lat, lon in zip(lats, lons):\n",
    "    folium.Marker(\n",
    "        location=[lat, lon]).add_to(m2)\n",
    "    \n",
    "    \n",
    "m2"
   ]
  },
  {
   "cell_type": "markdown",
   "id": "04e30176-8435-4fb6-abef-b412a242f02f",
   "metadata": {
    "tags": []
   },
   "source": [
    "### Custom markers"
   ]
  },
  {
   "cell_type": "code",
   "execution_count": null,
   "id": "b0cf4fe2-db26-44bc-b792-9ac323318f66",
   "metadata": {},
   "outputs": [],
   "source": [
    "# getting arguments\n",
    "lats = df['lat'].astype('float32')\n",
    "lons = df['lon'].astype('float32')\n",
    "postal_codes = df['postal_code'].astype('str')\n",
    "labels = df['some_label']\n",
    "colors = df['colors'].astype('str')"
   ]
  },
  {
   "cell_type": "markdown",
   "id": "e20783ef-1ffc-46da-8069-e79d153e7e82",
   "metadata": {
    "tags": []
   },
   "source": [
    "#### Icons"
   ]
  },
  {
   "cell_type": "code",
   "execution_count": null,
   "id": "d1f604ea-8688-49ed-a79b-cf22ae8c0e5e",
   "metadata": {},
   "outputs": [],
   "source": [
    "# taking a chunk of data\n",
    "lats_temp = lats[0:150] \n",
    "lons_temp = lons[0:150] \n",
    "codes_temp = postal_codes[0:150]\n",
    "labels_temp = labels[0:150]"
   ]
  },
  {
   "cell_type": "code",
   "execution_count": null,
   "id": "3013880b-1d5b-4086-b7cf-427fd914f21e",
   "metadata": {
    "tags": []
   },
   "outputs": [],
   "source": [
    "m3 = folium.Map(location=location, zoom_start=zoom_start)\n",
    "\n",
    "for lat, lon, code in zip(lats_temp, lons_temp, codes_temp):\n",
    "    folium.Marker(\n",
    "        location=[lat, lon],\n",
    "        popup=code,\n",
    "        icon=folium.Icon(color='pink', icon='glyphicon-home')).add_to(m3)\n",
    "    \n",
    "\n",
    "m3"
   ]
  },
  {
   "cell_type": "code",
   "execution_count": null,
   "id": "e2adaa4e-cee6-45ad-bad5-b04cee839fa0",
   "metadata": {
    "tags": []
   },
   "outputs": [],
   "source": [
    "# different marker for each category\n",
    "m4 = folium.Map(location=location, zoom_start=zoom_start)\n",
    "\n",
    "for lat, lon, code, label in zip(lats_temp, lons_temp, codes_temp, labels_temp):\n",
    "    if label == 'Category1':\n",
    "        folium.Marker(\n",
    "            location=[lat, lon],\n",
    "            popup=code,\n",
    "            icon=folium.Icon(color='darkgreen', icon='glyphicon-home')).add_to(m4)\n",
    "    elif label == 'Category2':\n",
    "        folium.Marker(\n",
    "            location=[lat, lon],\n",
    "            popup=code,\n",
    "            icon=folium.Icon(color='darkblue', icon='glyphicon-info-sign')).add_to(m4)\n",
    "    elif label == 'Category3':\n",
    "        folium.Marker(\n",
    "            location=[lat, lon],\n",
    "            popup=code,\n",
    "            icon=folium.Icon(color='darkpurple', icon='glyphicon-trash')).add_to(m4)\n",
    "    elif label == 'Category4':\n",
    "        folium.Marker(\n",
    "            location=[lat, lon],\n",
    "            popup=code,\n",
    "            icon=folium.Icon(color='darkred', icon='glyphicon-plane')).add_to(m4)\n",
    "        \n",
    "        \n",
    "m4"
   ]
  },
  {
   "cell_type": "markdown",
   "id": "d1c67d8d-1ba9-453a-be3f-5cdfcf721e1c",
   "metadata": {},
   "source": [
    "Get more icons from below website:\n",
    "\n",
    "https://getbootstrap.com/docs/3.3/components/"
   ]
  },
  {
   "cell_type": "markdown",
   "id": "29a66d16-22d1-4943-a3a0-32e9a95ed52e",
   "metadata": {},
   "source": [
    "#### Circle Markers"
   ]
  },
  {
   "cell_type": "code",
   "execution_count": null,
   "id": "07b405d5-bf40-4717-8e32-f1b6273eaabe",
   "metadata": {
    "tags": []
   },
   "outputs": [],
   "source": [
    "# using circle markers\n",
    "m5 = folium.Map(location=location, zoom_start=zoom_start)\n",
    "\n",
    "for lat, lon, code, label, color in zip(lats, lons, postal_codes, labels, colors):\n",
    "    if label == 'Category1':\n",
    "        folium.CircleMarker(\n",
    "            location = [lat, lon],\n",
    "            radius=3,\n",
    "            popup=code,\n",
    "            color=color).add_to(m5)\n",
    "    elif label == 'Category2':\n",
    "        folium.CircleMarker(\n",
    "            location = [lat, lon],\n",
    "            radius=3,\n",
    "            popup=code,\n",
    "            color=color).add_to(m5)\n",
    "    elif label == 'Category3':\n",
    "        folium.CircleMarker(\n",
    "            location = [lat, lon],\n",
    "            radius=3,\n",
    "            popup=code,\n",
    "            color=color).add_to(m5)\n",
    "    elif label == 'Category4':\n",
    "        folium.CircleMarker(\n",
    "            location = [lat, lon],\n",
    "            radius=3,\n",
    "            popup=code,\n",
    "            color=color).add_to(m5)\n",
    "\n",
    "\n",
    "m5"
   ]
  },
  {
   "cell_type": "markdown",
   "id": "7aa1532c-89dc-4467-b012-2bdb3aa9b750",
   "metadata": {},
   "source": [
    "#### Custom popup"
   ]
  },
  {
   "cell_type": "markdown",
   "id": "b308f8fb-be13-4019-932f-9f469eface0e",
   "metadata": {},
   "source": [
    "Desired popup:\n",
    "\n",
    "dk - 1234\n",
    "<br>\n",
    "Category123"
   ]
  },
  {
   "cell_type": "code",
   "execution_count": null,
   "id": "97e4ff1c-03f4-4e3d-9cc9-ccb36773e86d",
   "metadata": {},
   "outputs": [],
   "source": [
    "m6 = folium.Map(location=location, zoom_start=zoom_start)\n",
    "\n",
    "for lat, lon, code, label, color in zip(lats, lons, postal_codes, labels, colors):\n",
    "    if label == 'Category1':\n",
    "        folium.CircleMarker(\n",
    "            location = [lat, lon],\n",
    "            radius=3,\n",
    "            popup=f'dk - {code}\\n{label}',\n",
    "            color=color).add_to(m6)\n",
    "    elif label == 'Category2':\n",
    "        folium.CircleMarker(\n",
    "            location = [lat, lon],\n",
    "            radius=3,\n",
    "            popup=f'dk - {code}\\n{label}',\n",
    "            color=color).add_to(m6)\n",
    "    elif label == 'Category3':\n",
    "        folium.CircleMarker(\n",
    "            location = [lat, lon],\n",
    "            radius=3,\n",
    "            popup=f'dk - {code}\\n{label}',\n",
    "            color=color).add_to(m6)\n",
    "    elif label == 'Category4':\n",
    "        folium.CircleMarker(\n",
    "            location = [lat, lon],\n",
    "            radius=3,\n",
    "            popup=f'dk - {code}\\n{label}',\n",
    "            color=color).add_to(m6)\n",
    "        \n",
    "        \n",
    "m6"
   ]
  },
  {
   "cell_type": "markdown",
   "id": "a1ecbb88-0b07-4595-8871-7876960f5d5e",
   "metadata": {},
   "source": [
    "#### Creating an interactive legend"
   ]
  },
  {
   "cell_type": "code",
   "execution_count": null,
   "id": "d58ab9f9-5ab2-4ce0-ad53-c525d54e8520",
   "metadata": {},
   "outputs": [],
   "source": [
    "m7 = folium.Map(location=location, zoom_start=zoom_start)"
   ]
  },
  {
   "cell_type": "code",
   "execution_count": null,
   "id": "3e95e6b2-0fa5-4f9b-be4f-d3f305f2bc5d",
   "metadata": {},
   "outputs": [],
   "source": [
    "# creating a FeatureGroup object\n",
    "cat1 = folium.FeatureGroup(name='Category 1', show=True)\n",
    "cat2 = folium.FeatureGroup(name='Category 2', show=True)\n",
    "cat3 = folium.FeatureGroup(name='Category 3', show=True)\n",
    "cat4 = folium.FeatureGroup(name='Category 4', show=True)"
   ]
  },
  {
   "cell_type": "code",
   "execution_count": null,
   "id": "7a3c3433-b698-4ebd-b3ce-6945605c24d1",
   "metadata": {},
   "outputs": [],
   "source": [
    "for lat, lon, code, label, color in zip(lats, lons, postal_codes, labels, colors):\n",
    "    if label == 'Category1':\n",
    "        folium.CircleMarker(\n",
    "            location = [lat, lon],\n",
    "            radius=3,\n",
    "            popup=f'dk - {code}\\n{label}',\n",
    "            color=color).add_to(cat1)\n",
    "    elif label == 'Category2':\n",
    "        folium.CircleMarker(\n",
    "            location = [lat, lon],\n",
    "            radius=3,\n",
    "            popup=f'dk - {code}\\n{label}',\n",
    "            color=color).add_to(cat2)\n",
    "    elif label == 'Category3':\n",
    "        folium.CircleMarker(\n",
    "            location = [lat, lon],\n",
    "            radius=3,\n",
    "            popup=f'dk - {code}\\n{label}',\n",
    "            color=color).add_to(cat3)\n",
    "    elif label == 'Category4':\n",
    "        folium.CircleMarker(\n",
    "            location = [lat, lon],\n",
    "            radius=3,\n",
    "            popup=f'dk - {code}\\n{label}',\n",
    "            color=color).add_to(cat4)"
   ]
  },
  {
   "cell_type": "code",
   "execution_count": null,
   "id": "d362184a-4113-49cf-86df-9430435d4885",
   "metadata": {},
   "outputs": [],
   "source": [
    "cat1.add_to(m7)\n",
    "cat2.add_to(m7)\n",
    "cat3.add_to(m7)\n",
    "cat4.add_to(m7)"
   ]
  },
  {
   "cell_type": "code",
   "execution_count": null,
   "id": "2b67c5b1-2221-477e-820e-74373a0d0347",
   "metadata": {},
   "outputs": [],
   "source": [
    "folium.map.LayerControl('topleft', collapsed=False).add_to(m7)"
   ]
  },
  {
   "cell_type": "code",
   "execution_count": null,
   "id": "810ca24b-7d62-4ad2-a97f-a18eb09e67b5",
   "metadata": {
    "tags": []
   },
   "outputs": [],
   "source": [
    "m7"
   ]
  },
  {
   "cell_type": "markdown",
   "id": "9564f171-545a-41b6-90fa-35e6e4d269ff",
   "metadata": {},
   "source": [
    "#### Creating a legend with Select All option"
   ]
  },
  {
   "cell_type": "code",
   "execution_count": null,
   "id": "8f838a93-4025-443f-a07e-d9a7db1c2b97",
   "metadata": {},
   "outputs": [],
   "source": [
    "m8 = folium.Map(location=location, zoom_start=zoom_start)"
   ]
  },
  {
   "cell_type": "code",
   "execution_count": null,
   "id": "a6297f1b-1d7c-41a6-a714-70e7fc8ee339",
   "metadata": {},
   "outputs": [],
   "source": [
    "# adding a master layer with all points\n",
    "select_all = folium.FeatureGroup(name='Select All', show=True)\n",
    "m8.add_child(select_all)\n",
    "\n",
    "# adding specific groups' Layer\n",
    "all_subgroups = folium.FeatureGroup(name='Enable selection', show=False)\n",
    "m8.add_child(all_subgroups)"
   ]
  },
  {
   "cell_type": "code",
   "execution_count": null,
   "id": "da85195f-17c2-4c46-9d6d-7fb2cf4f6c12",
   "metadata": {},
   "outputs": [],
   "source": [
    "for lat, lon, code, label in zip(lats, lons, postal_codes, labels):\n",
    "    if label == 'Category1':\n",
    "        category1 = folium.plugins.FeatureGroupSubGroup(group=all_subgroups, name=label, show=False)\n",
    "    elif label == 'Category2':\n",
    "        category2 = folium.plugins.FeatureGroupSubGroup(group=all_subgroups, name=label, show=False)\n",
    "    elif label == 'Category3':\n",
    "        category3 = folium.plugins.FeatureGroupSubGroup(group=all_subgroups, name=label, show=False)\n",
    "    elif label == 'Category4':\n",
    "        category4 = folium.plugins.FeatureGroupSubGroup(group=all_subgroups, name=label, show=False)"
   ]
  },
  {
   "cell_type": "code",
   "execution_count": null,
   "id": "8014cbe4-9e69-40ea-a36a-f21a05f5e9ad",
   "metadata": {},
   "outputs": [],
   "source": [
    "# points for each category\n",
    "for lat, lon, code, label, color in zip(lats, lons, postal_codes, labels, colors):\n",
    "    if label == 'Category1':\n",
    "        folium.CircleMarker(\n",
    "            location = [lat, lon],\n",
    "            radius=3,\n",
    "            popup=f'dk - {code}\\n{label}',\n",
    "            color=color).add_to(category1)\n",
    "    elif label == 'Category2':\n",
    "        folium.CircleMarker(\n",
    "            location = [lat, lon],\n",
    "            radius=3,\n",
    "            popup=f'dk - {code}\\n{label}',\n",
    "            color=color).add_to(category2)\n",
    "    elif label == 'Category3':\n",
    "        folium.CircleMarker(\n",
    "            location = [lat, lon],\n",
    "            radius=3,\n",
    "            popup=f'dk - {code}\\n{label}',\n",
    "            color=color).add_to(category3)\n",
    "    elif label == 'Category4':\n",
    "        folium.CircleMarker(\n",
    "            location = [lat, lon],\n",
    "            radius=3,\n",
    "            popup=f'dk - {code}\\n{label}',\n",
    "            color=color).add_to(category4)"
   ]
  },
  {
   "cell_type": "code",
   "execution_count": null,
   "id": "2b62d92f-24d7-437e-81d2-a9e6f3c05097",
   "metadata": {},
   "outputs": [],
   "source": [
    "for lat, lon, code, label, color in zip(lats, lons, postal_codes, labels, colors):\n",
    "    folium.CircleMarker(\n",
    "            location = [lat, lon],\n",
    "            radius=3,\n",
    "            popup=f'dk - {code}\\n{label}',\n",
    "            color=color).add_to(select_all)"
   ]
  },
  {
   "cell_type": "code",
   "execution_count": null,
   "id": "d535755d-30be-422d-8274-f2ae85606108",
   "metadata": {},
   "outputs": [],
   "source": [
    "category1.add_to(m8)\n",
    "category2.add_to(m8)\n",
    "category3.add_to(m8)\n",
    "category4.add_to(m8)"
   ]
  },
  {
   "cell_type": "code",
   "execution_count": null,
   "id": "bc92f1cc-b9b3-4db4-9603-86772cd3ccf6",
   "metadata": {},
   "outputs": [],
   "source": [
    "folium.map.LayerControl('topleft', collapsed=False).add_to(m8)"
   ]
  },
  {
   "cell_type": "code",
   "execution_count": null,
   "id": "7b022943-7c7b-45c1-a3c7-1c4c8030e117",
   "metadata": {},
   "outputs": [],
   "source": [
    "m8"
   ]
  },
  {
   "cell_type": "markdown",
   "id": "08157dd4-74e8-4ddf-a3ef-bed1a3061706",
   "metadata": {
    "tags": []
   },
   "source": [
    "#### Saving the map"
   ]
  },
  {
   "cell_type": "code",
   "execution_count": null,
   "id": "043ddeaf-1d88-4b28-90f3-390e5b158a08",
   "metadata": {},
   "outputs": [],
   "source": [
    "m8.save(f'{output}.html')"
   ]
  },
  {
   "cell_type": "markdown",
   "id": "8a2f97f4-10f4-47d9-a44f-e2684cd0cf4e",
   "metadata": {
    "tags": []
   },
   "source": [
    "## Summary"
   ]
  },
  {
   "cell_type": "markdown",
   "id": "222370e7-a626-4a28-b1b9-83f13ba8a86e",
   "metadata": {},
   "source": [
    "Useful links:\n",
    "\n",
    "https://python-visualization.github.io/folium/index.html\n",
    "\n",
    "https://www.youtube.com/watch?v=t9Ed5QyO7qY&ab_channel=RyanNoonan"
   ]
  }
 ],
 "metadata": {
  "kernelspec": {
   "display_name": "Python 3 (ipykernel)",
   "language": "python",
   "name": "python3"
  },
  "language_info": {
   "codemirror_mode": {
    "name": "ipython",
    "version": 3
   },
   "file_extension": ".py",
   "mimetype": "text/x-python",
   "name": "python",
   "nbconvert_exporter": "python",
   "pygments_lexer": "ipython3",
   "version": "3.8.12"
  }
 },
 "nbformat": 4,
 "nbformat_minor": 5
}
